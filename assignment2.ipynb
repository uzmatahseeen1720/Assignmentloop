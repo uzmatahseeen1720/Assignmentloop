{
 "cells": [
  {
   "cell_type": "code",
   "execution_count": 1,
   "id": "d05932dd-e5a8-4f54-a5af-f62808d5e341",
   "metadata": {},
   "outputs": [],
   "source": [
    "#Q.1 Explain for and while loop with examples?"
   ]
  },
  {
   "cell_type": "code",
   "execution_count": 5,
   "id": "ea0b0c96-5a69-4f06-b398-4ffba6e8c21a",
   "metadata": {},
   "outputs": [],
   "source": [
    "#Answer\n",
    "l1=[\"sudh\",\"krish\",\"naik\",\"Uzma\"]"
   ]
  },
  {
   "cell_type": "code",
   "execution_count": 6,
   "id": "6aa5807a-bcd8-4621-9234-6efdd695b6ac",
   "metadata": {},
   "outputs": [
    {
     "name": "stdout",
     "output_type": "stream",
     "text": [
      "sudh\n",
      "krish\n",
      "naik\n",
      "Uzma\n"
     ]
    }
   ],
   "source": [
    " for i in l1 :\n",
    "        print(i)  ##Basic use of for "
   ]
  },
  {
   "cell_type": "code",
   "execution_count": 10,
   "id": "81ecc456-fb2f-430c-ba38-6e906ce1f48e",
   "metadata": {},
   "outputs": [
    {
     "name": "stdout",
     "output_type": "stream",
     "text": [
      "sudh\n",
      "krish\n"
     ]
    }
   ],
   "source": [
    "##for with if else\n",
    "for i in l1:\n",
    "    if i == \"naik\":\n",
    "        break\n",
    "    print(i)\n",
    "else:\n",
    "    print(\"Its okay\")"
   ]
  },
  {
   "cell_type": "code",
   "execution_count": 30,
   "id": "5152dc1b-7c09-41f2-b508-282d249f2947",
   "metadata": {},
   "outputs": [
    {
     "name": "stdin",
     "output_type": "stream",
     "text": [
      "Enter number 3\n"
     ]
    },
    {
     "name": "stdout",
     "output_type": "stream",
     "text": [
      "4\n",
      "5\n",
      "6\n"
     ]
    }
   ],
   "source": [
    "i = int(input(\"Enter number\"))\n",
    "while i < 6:\n",
    "  i += 1\n",
    "  print(i)\n",
    "if i>6:\n",
    "    print(\"i is no longer less than 6\")\n"
   ]
  },
  {
   "cell_type": "code",
   "execution_count": 32,
   "id": "02f3664c-2d4b-4c4e-b72d-e770be17cb1f",
   "metadata": {},
   "outputs": [],
   "source": [
    "##Q.2 WAP to print sum and product of 10 natural numbers using for and while loop."
   ]
  },
  {
   "cell_type": "code",
   "execution_count": 37,
   "id": "127ff37b-3960-4844-ba8b-19745820e940",
   "metadata": {},
   "outputs": [],
   "source": [
    "##ANSWER\n",
    "l2=[1,2,3,4,5,6,7,8,9,10]  "
   ]
  },
  {
   "cell_type": "code",
   "execution_count": 38,
   "id": "d8c5a7e8-ddf9-4193-9991-155ed8eafbf8",
   "metadata": {},
   "outputs": [
    {
     "data": {
      "text/plain": [
       "55"
      ]
     },
     "execution_count": 38,
     "metadata": {},
     "output_type": "execute_result"
    }
   ],
   "source": [
    "result=0\n",
    "for i in l2:\n",
    "    result=result+i\n",
    "result\n",
    "    "
   ]
  },
  {
   "cell_type": "code",
   "execution_count": 1,
   "id": "513bf548-1b4f-4bab-b33b-a88a605925db",
   "metadata": {},
   "outputs": [
    {
     "name": "stdin",
     "output_type": "stream",
     "text": [
      "Enter n 10\n"
     ]
    },
    {
     "name": "stdout",
     "output_type": "stream",
     "text": [
      "The sum is:  55\n"
     ]
    }
   ],
   "source": [
    "n=int(input(\"Enter n\"))\n",
    "i=1\n",
    "sum=0\n",
    "while i<=n:\n",
    "    sum=sum+i\n",
    "    i=i+1\n",
    "print(\"The sum is: \",sum)"
   ]
  },
  {
   "cell_type": "code",
   "execution_count": 1,
   "id": "b12b5b95-cf6a-4dfa-8d2a-89d8bc450007",
   "metadata": {},
   "outputs": [],
   "source": [
    "l3=[1,2,3,4,5,6,7,8,9,10]"
   ]
  },
  {
   "cell_type": "code",
   "execution_count": 2,
   "id": "5911ab76-790c-4b72-adae-677c40986d2a",
   "metadata": {},
   "outputs": [
    {
     "data": {
      "text/plain": [
       "3628800"
      ]
     },
     "execution_count": 2,
     "metadata": {},
     "output_type": "execute_result"
    }
   ],
   "source": [
    "product=1\n",
    "for i in l3:\n",
    "    product=product*i\n",
    "product"
   ]
  },
  {
   "cell_type": "code",
   "execution_count": 3,
   "id": "344b5b30-f12f-4a7a-a3da-488cab73303b",
   "metadata": {},
   "outputs": [
    {
     "name": "stdout",
     "output_type": "stream",
     "text": [
      "The product is:  3628800\n"
     ]
    }
   ],
   "source": [
    "n= 10\n",
    "i=1\n",
    "product=1\n",
    "while i<=10:\n",
    "    product=product*i\n",
    "    i=i+1\n",
    "print(\"The product is: \",product)"
   ]
  },
  {
   "cell_type": "code",
   "execution_count": 7,
   "id": "f47a0834-e53d-45f3-8453-b151c6aee512",
   "metadata": {},
   "outputs": [
    {
     "name": "stdin",
     "output_type": "stream",
     "text": [
      "Input number of units 310\n"
     ]
    },
    {
     "name": "stdout",
     "output_type": "stream",
     "text": [
      "The electricity bill is:  2250\n"
     ]
    }
   ],
   "source": [
    "##Question-3 Calculate electricity bill.\n",
    "i= int(input(\"Input number of units\"))\n",
    "if i<=100:\n",
    "       Charge=i*4.5\n",
    "elif i>100 and i<=200:\n",
    "       Charge=450+ ((i-100)*6)\n",
    "elif i>200 and i<=300:\n",
    "       Charge=450+600+((i-200)*10)\n",
    "elif i>300:\n",
    "       Charge=450+600+1000+((i-300)*20)\n",
    "print(\"The electricity bill is: \",Charge)\n",
    "             "
   ]
  },
  {
   "cell_type": "code",
   "execution_count": 31,
   "id": "9fa00fc2-f8a5-459e-9c8e-0de0785e0c6c",
   "metadata": {},
   "outputs": [
    {
     "name": "stdout",
     "output_type": "stream",
     "text": [
      "1\n",
      "8\n",
      "27\n",
      "64\n",
      "125\n",
      "216\n",
      "343\n",
      "512\n",
      "729\n",
      "1000\n",
      "1331\n",
      "1728\n",
      "2197\n",
      "2744\n",
      "3375\n",
      "4096\n",
      "4913\n",
      "5832\n",
      "6859\n",
      "8000\n",
      "9261\n",
      "10648\n",
      "12167\n",
      "13824\n",
      "15625\n",
      "17576\n",
      "19683\n",
      "21952\n",
      "24389\n",
      "27000\n",
      "29791\n",
      "32768\n",
      "35937\n",
      "39304\n",
      "42875\n",
      "46656\n",
      "50653\n",
      "54872\n",
      "59319\n",
      "64000\n",
      "68921\n",
      "74088\n",
      "79507\n",
      "85184\n",
      "91125\n",
      "97336\n",
      "103823\n",
      "110592\n",
      "117649\n",
      "125000\n",
      "132651\n",
      "140608\n",
      "148877\n",
      "157464\n",
      "166375\n",
      "175616\n",
      "185193\n",
      "195112\n",
      "205379\n",
      "216000\n",
      "226981\n",
      "238328\n",
      "250047\n",
      "262144\n",
      "274625\n",
      "287496\n",
      "300763\n",
      "314432\n",
      "328509\n",
      "343000\n",
      "357911\n",
      "373248\n",
      "389017\n",
      "405224\n",
      "421875\n",
      "438976\n",
      "456533\n",
      "474552\n",
      "493039\n",
      "512000\n",
      "531441\n",
      "551368\n",
      "571787\n",
      "592704\n",
      "614125\n",
      "636056\n",
      "658503\n",
      "681472\n",
      "704969\n",
      "729000\n",
      "753571\n",
      "778688\n",
      "804357\n",
      "830584\n",
      "857375\n",
      "884736\n",
      "912673\n",
      "941192\n",
      "970299\n",
      "1000000\n"
     ]
    },
    {
     "data": {
      "text/plain": [
       "[8,\n",
       " 64,\n",
       " 125,\n",
       " 216,\n",
       " 512,\n",
       " 1000,\n",
       " 1728,\n",
       " 2744,\n",
       " 3375,\n",
       " 4096,\n",
       " 5832,\n",
       " 8000,\n",
       " 10648,\n",
       " 13824,\n",
       " 15625,\n",
       " 17576,\n",
       " 21952,\n",
       " 27000,\n",
       " 32768,\n",
       " 39304,\n",
       " 42875,\n",
       " 46656,\n",
       " 54872,\n",
       " 64000,\n",
       " 74088,\n",
       " 85184,\n",
       " 91125,\n",
       " 97336,\n",
       " 110592,\n",
       " 125000,\n",
       " 140608,\n",
       " 157464,\n",
       " 166375,\n",
       " 175616,\n",
       " 195112,\n",
       " 216000,\n",
       " 238328,\n",
       " 262144,\n",
       " 274625,\n",
       " 287496,\n",
       " 314432,\n",
       " 343000,\n",
       " 373248,\n",
       " 405224,\n",
       " 421875,\n",
       " 438976,\n",
       " 474552,\n",
       " 512000,\n",
       " 551368,\n",
       " 592704,\n",
       " 614125,\n",
       " 636056,\n",
       " 681472,\n",
       " 729000,\n",
       " 778688,\n",
       " 830584,\n",
       " 857375,\n",
       " 884736,\n",
       " 941192,\n",
       " 1000000]"
      ]
     },
     "execution_count": 31,
     "metadata": {},
     "output_type": "execute_result"
    }
   ],
   "source": [
    "##Question-4 Write a program to print cube of each number from 1 to 100 and the cube is divisible by 4 or 5\n",
    "##append that in new list and print that list.\n",
    "l1= []\n",
    "for i in range(1,101,1):\n",
    "    print(i*i*i)\n",
    "    l1.append(i*i*i)\n",
    "l1\n",
    "l1_divisible=[]\n",
    "for i in l1:\n",
    "    if i %4 ==0 or i%5 == 0:\n",
    "        l1_divisible.append(i)\n",
    "l1_divisible\n",
    "                \n",
    "    "
   ]
  },
  {
   "cell_type": "code",
   "execution_count": 41,
   "id": "21822586-b949-45ec-9d51-f4be28861b94",
   "metadata": {},
   "outputs": [
    {
     "name": "stdout",
     "output_type": "stream",
     "text": [
      "Number of vowels are :  11\n"
     ]
    }
   ],
   "source": [
    "##Question-5 Calculate number of vowels.\n",
    "string= \"I want to become a data scientist\"\n",
    "vowels=0\n",
    "for i in string:\n",
    "    if( i=='a' or i=='e' or i=='i' or i=='o' or i=='u'):\n",
    "        vowels=vowels+1\n",
    "print(\"Number of vowels are : \",vowels)\n",
    "    "
   ]
  },
  {
   "cell_type": "code",
   "execution_count": null,
   "id": "e0433b48-640a-4f23-b451-e288ea3edd28",
   "metadata": {},
   "outputs": [],
   "source": []
  }
 ],
 "metadata": {
  "kernelspec": {
   "display_name": "Python 3 (ipykernel)",
   "language": "python",
   "name": "python3"
  },
  "language_info": {
   "codemirror_mode": {
    "name": "ipython",
    "version": 3
   },
   "file_extension": ".py",
   "mimetype": "text/x-python",
   "name": "python",
   "nbconvert_exporter": "python",
   "pygments_lexer": "ipython3",
   "version": "3.10.8"
  }
 },
 "nbformat": 4,
 "nbformat_minor": 5
}
